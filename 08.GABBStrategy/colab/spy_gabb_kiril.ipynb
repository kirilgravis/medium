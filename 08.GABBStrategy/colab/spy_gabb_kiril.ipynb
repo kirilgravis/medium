{
 "cells": [
  {
   "cell_type": "markdown",
   "metadata": {
    "id": "IYmbAYBansva"
   },
   "source": [
    "Copy the files **spy.train.csv.gz** and **spy.test.csv.gz** located in https://github.com/crapher/medium/tree/main/08.GABBStrategy/data to your colab folder"
   ]
  },
  {
   "cell_type": "code",
   "execution_count": null,
   "metadata": {
    "colab": {
     "base_uri": "https://localhost:8080/"
    },
    "id": "bU4G0gi-gdc5",
    "outputId": "fecc2523-1190-4407-f2aa-cc7ccf9d36c5"
   },
   "outputs": [],
   "source": [
    "# !pip install pandas_ta tqdm pygad"
   ]
  },
  {
   "cell_type": "code",
   "execution_count": 2,
   "metadata": {
    "id": "-LjpN-v8Btt7"
   },
   "outputs": [],
   "source": [
    "import numpy as np\n",
    "import pandas as pd\n",
    "import pandas_ta as ta\n",
    "import pygad\n",
    "\n",
    "from tqdm import tqdm\n",
    "from dateutil.parser import parse"
   ]
  },
  {
   "cell_type": "code",
   "execution_count": 3,
   "metadata": {
    "id": "36mzjkH6B-7a"
   },
   "outputs": [],
   "source": [
    "# Constants\n",
    "CASH = 10000\n",
    "SOLUTIONS = 90\n",
    "GENERATIONS = 90\n",
    "TRAIN_FILE = '../data/spy.train.csv.gz'\n",
    "TEST_FILE = '../data/spy.test.csv.gz'"
   ]
  },
  {
   "cell_type": "code",
   "execution_count": 4,
   "metadata": {
    "id": "Eck0aed5QLR4"
   },
   "outputs": [],
   "source": [
    "# Configuration\n",
    "np.set_printoptions(suppress=True)\n",
    "pd.options.mode.chained_assignment = None"
   ]
  },
  {
   "cell_type": "code",
   "execution_count": 5,
   "metadata": {
    "id": "Olt-N2rNCBa6"
   },
   "outputs": [],
   "source": [
    "# Loading data, and split in train and test datasets\n",
    "def get_data(train, test):\n",
    "\n",
    "    \n",
    "    train.ta.bbands(close=train['close'], length=10, append=True)\n",
    "    train = train.dropna()\n",
    "    train['high_limit'] = train['BBU_10_2.0'] + (train['BBU_10_2.0'] - train['BBL_10_2.0']) / 2\n",
    "    train['low_limit'] = train['BBL_10_2.0'] - (train['BBU_10_2.0'] - train['BBL_10_2.0']) / 2\n",
    "    train['close_percentage'] = np.clip((train['close'] - train['low_limit']) / (train['high_limit'] - train['low_limit']), 0, 1)\n",
    "    train['bandwidth'] = np.clip(train['BBB_10_2.0'] / 100, 0, 1)\n",
    "\n",
    "    \n",
    "    test.ta.bbands(close=test['close'], length=10, append=True)\n",
    "    test = test.dropna()\n",
    "    test['high_limit'] = test['BBU_10_2.0'] + (test['BBU_10_2.0'] - test['BBL_10_2.0']) / 2\n",
    "    test['low_limit'] = test['BBL_10_2.0'] - (test['BBU_10_2.0'] - test['BBL_10_2.0']) / 2\n",
    "    test['close_percentage'] = np.clip((test['close'] - test['low_limit']) / (test['high_limit'] - test['low_limit']), 0, 1)\n",
    "    test['bandwidth'] = np.clip(test['BBB_10_2.0'] / 100, 0, 1)\n",
    "\n",
    "    return train, test"
   ]
  },
  {
   "cell_type": "code",
   "execution_count": 6,
   "metadata": {
    "id": "ytemL7k3QRGf"
   },
   "outputs": [],
   "source": [
    "# Define fitness function to be used by the PyGAD instance\n",
    "def fitness_func(self, solution, sol_idx):\n",
    "\n",
    "    # Get Reward from train data\n",
    "    total_reward, _, _ , _= get_result(train, solution[0], solution[1], solution[2])\n",
    "    # print(total_reward)\n",
    "    # Return the solution reward\n",
    "    return total_reward"
   ]
  },
  {
   "cell_type": "code",
   "execution_count": 7,
   "metadata": {
    "id": "SJop-YM2QSry"
   },
   "outputs": [],
   "source": [
    "# Define a reward function\n",
    "def get_result(df, min_bandwidth, max_buy_perc, min_sell_perc):\n",
    "\n",
    "    # Generate a copy to avoid changing the original data\n",
    "    df = df.copy().reset_index(drop=True)\n",
    "\n",
    "    # Buy Signal\n",
    "    df['signal'] = np.where((df['bandwidth'] > min_bandwidth) & (df['close_percentage'] < max_buy_perc), 1, 0)\n",
    "\n",
    "    # Sell Signal\n",
    "    df['signal'] = np.where((df['close_percentage'] > min_sell_perc), -1, df['signal'])\n",
    "\n",
    "    # Remove all rows without operations, rows with the same consecutive operation, first row selling, and last row buying\n",
    "    result = df[df['signal'] != 0]\n",
    "    result = result[result['signal'] != result['signal'].shift()]\n",
    "    if (len(result) > 0) and (result.iat[0, -1] == -1): result = result.iloc[1:]\n",
    "    if (len(result) > 0) and (result.iat[-1, -1] == 1): result = result.iloc[:-1]\n",
    "\n",
    "    # Calculate the reward / operation\n",
    "    result['total_reward'] = np.where(result['signal'] == -1,\n",
    "                                      ((result['close'] / result['close'].shift()-1) * CASH * 10)- CASH*0.0001, 0)\n",
    "\n",
    "    # Generate the result\n",
    "    total_reward = result['total_reward'].sum()\n",
    "    wins = len(result[result['total_reward'] > 0])\n",
    "    losses = len(result[result['total_reward'] < 0])\n",
    "\n",
    "    return total_reward, wins, losses, result"
   ]
  },
  {
   "cell_type": "markdown",
   "metadata": {},
   "source": [
    "* his data"
   ]
  },
  {
   "cell_type": "code",
   "execution_count": 8,
   "metadata": {
    "colab": {
     "base_uri": "https://localhost:8080/"
    },
    "id": "3wnO_sueQVOA",
    "outputId": "fdcf3fd2-f0f2-4be3-f3bb-8635a90ed573"
   },
   "outputs": [],
   "source": [
    "# Get Train and Test data\n",
    "# train = pd.read_csv(TRAIN_FILE, compression='gzip')\n",
    "# test = pd.read_csv(TEST_FILE, compression='gzip')\n",
    "# train, test = get_data(train, test)"
   ]
  },
  {
   "cell_type": "markdown",
   "metadata": {},
   "source": [
    "* Real Data"
   ]
  },
  {
   "cell_type": "code",
   "execution_count": 9,
   "metadata": {},
   "outputs": [],
   "source": [
    "data = pd.read_csv('/Users/kiril/Documents/GitHub/NTC/Collected Data/test/corrected/almost_all_data.csv')"
   ]
  },
  {
   "cell_type": "code",
   "execution_count": 10,
   "metadata": {},
   "outputs": [],
   "source": [
    "data = data[['index','Adj_SPY']]"
   ]
  },
  {
   "cell_type": "code",
   "execution_count": 11,
   "metadata": {},
   "outputs": [],
   "source": [
    "data['index'] = data['index'].apply(lambda x: parse(x,yearfirst=True, dayfirst=False))"
   ]
  },
  {
   "cell_type": "code",
   "execution_count": 12,
   "metadata": {},
   "outputs": [],
   "source": [
    "data = data.sort_values(by='index')\n",
    "data.reset_index(inplace=True)\n",
    "data.drop('level_0', axis=1, inplace=True)"
   ]
  },
  {
   "cell_type": "code",
   "execution_count": 13,
   "metadata": {},
   "outputs": [],
   "source": [
    "data.rename(columns={'Adj_SPY':'close', 'index':'date'}, inplace=True)\n",
    "# data"
   ]
  },
  {
   "cell_type": "code",
   "execution_count": 14,
   "metadata": {},
   "outputs": [],
   "source": [
    "split_indx = round(len(data)*0.7)\n",
    "train = data[:split_indx]\n",
    "test = data[split_indx:]"
   ]
  },
  {
   "cell_type": "code",
   "execution_count": 15,
   "metadata": {},
   "outputs": [],
   "source": [
    "train, test = get_data(train, test)"
   ]
  },
  {
   "cell_type": "code",
   "execution_count": 16,
   "metadata": {
    "colab": {
     "base_uri": "https://localhost:8080/"
    },
    "id": "3wnO_sueQVOA",
    "outputId": "fdcf3fd2-f0f2-4be3-f3bb-8635a90ed573"
   },
   "outputs": [
    {
     "name": "stdout",
     "output_type": "stream",
     "text": [
      "************************************************************\n",
      "********************* PROCESSING DATA **********************\n",
      "************************************************************\n"
     ]
    },
    {
     "name": "stderr",
     "output_type": "stream",
     "text": [
      "100%|██████████| 90/90 [00:46<00:00,  1.95it/s]\n"
     ]
    }
   ],
   "source": [
    "# Process data\n",
    "print(\"\".center(60, \"*\"))\n",
    "print(f' PROCESSING DATA '.center(60, '*'))\n",
    "print(\"\".center(60, \"*\"))\n",
    "\n",
    "with tqdm(total=GENERATIONS) as pbar:\n",
    "\n",
    "    # Create Genetic Algorithm\n",
    "    ga_instance = pygad.GA(num_generations=GENERATIONS,\n",
    "                           num_parents_mating=5,\n",
    "                           fitness_func=fitness_func,\n",
    "                           sol_per_pop=SOLUTIONS,\n",
    "                           num_genes=3,\n",
    "                           gene_space=[\n",
    "                            {'low': 0, 'high': 1},\n",
    "                            {'low': 0, 'high': 1, 'step': 0.01},\n",
    "                            {'low': 0, 'high': 1, 'step': 0.01}],\n",
    "                           parent_selection_type=\"sss\",\n",
    "                           crossover_type=\"single_point\",\n",
    "                           mutation_type=\"random\",\n",
    "                           mutation_num_genes=1,\n",
    "                           keep_parents=-1,\n",
    "                           random_seed=42,\n",
    "                           on_generation=lambda _: pbar.update(1),\n",
    "                           )\n",
    "\n",
    "    # Run the Genetic Algorithm\n",
    "    ga_instance.run()"
   ]
  },
  {
   "cell_type": "code",
   "execution_count": 17,
   "metadata": {},
   "outputs": [
    {
     "name": "stderr",
     "output_type": "stream",
     "text": [
      "No artists with labels found to put in legend.  Note that artists whose label start with an underscore are ignored when legend() is called with no argument.\n"
     ]
    },
    {
     "data": {
      "image/png": "[encoded data removed]",
      "text/plain": [
       "<Figure size 640x480 with 1 Axes>"
      ]
     },
     "metadata": {},
     "output_type": "display_data"
    },
    {
     "data": {
      "image/png": "[encoded data removed]",
      "text/plain": [
       "<Figure size 640x480 with 1 Axes>"
      ]
     },
     "execution_count": 17,
     "metadata": {},
     "output_type": "execute_result"
    }
   ],
   "source": [
    "ga_instance.plot_fitness()\n"
   ]
  },
  {
   "cell_type": "code",
   "execution_count": 18,
   "metadata": {
    "colab": {
     "base_uri": "https://localhost:8080/"
    },
    "id": "3wnO_sueQVOA",
    "outputId": "fdcf3fd2-f0f2-4be3-f3bb-8635a90ed573",
    "tags": []
   },
   "outputs": [
    {
     "name": "stdout",
     "output_type": "stream",
     "text": [
      "***************** Best Solution Parameters *****************\n",
      "Min Bandwidth    : 0.0016\n",
      "Max Perc to Buy  :   0.35\n",
      "Min Perc to Sell :   0.63\n",
      "********************** Result (TRAIN) **********************\n",
      "* Profit / Loss  : 47270.80\n",
      "* Wins / Losses  : 2471 / 1302\n",
      "* Win Rate       : 65.49%\n",
      "********************** Result (TEST) ***********************\n",
      "* Profit / Loss  : 6066.21\n",
      "* Wins / Losses  : 868 / 472\n",
      "* Win Rate       : 64.78%\n"
     ]
    }
   ],
   "source": [
    "# Show details of the best solution.\n",
    "solution, solution_fitness, _ = ga_instance.best_solution()\n",
    "\n",
    "print(f' Best Solution Parameters '.center(60, '*'))\n",
    "print(f\"Min Bandwidth    : {solution[0]:6.4f}\")\n",
    "print(f\"Max Perc to Buy  : {solution[1]:6.2f}\")\n",
    "print(f\"Min Perc to Sell : {solution[2]:6.2f}\")\n",
    "\n",
    "# Get Reward from train data\n",
    "profit, wins, losses, result = get_result(train, solution[0], solution[1], solution[2])\n",
    "\n",
    "print(f' Result (TRAIN) '.center(60, '*'))\n",
    "print(f\"* Profit / Loss  : {profit:.2f}\")\n",
    "print(f\"* Wins / Losses  : {wins} / {losses}\")\n",
    "print(f\"* Win Rate       : {(100 * (wins/(wins + losses)) if wins + losses > 0 else 0):.2f}%\")\n",
    "\n",
    "# Get Reward from test data\n",
    "profit, wins, losses, result2 = get_result(test, solution[0], solution[1], solution[2])\n",
    "\n",
    "# Show the final result\n",
    "print(f' Result (TEST) '.center(60, '*'))\n",
    "print(f\"* Profit / Loss  : {profit:.2f}\")\n",
    "print(f\"* Wins / Losses  : {wins} / {losses}\")\n",
    "print(f\"* Win Rate       : {(100 * (wins/(wins + losses)) if wins + losses > 0 else 0):.2f}%\")"
   ]
  },
  {
   "cell_type": "code",
   "execution_count": 19,
   "metadata": {},
   "outputs": [
    {
     "data": {
      "text/html": [
       "<div>\n",
       "<style scoped>\n",
       "    .dataframe tbody tr th:only-of-type {\n",
       "        vertical-align: middle;\n",
       "    }\n",
       "\n",
       "    .dataframe tbody tr th {\n",
       "        vertical-align: top;\n",
       "    }\n",
       "\n",
       "    .dataframe thead th {\n",
       "        text-align: right;\n",
       "    }\n",
       "</style>\n",
       "<table border=\"1\" class=\"dataframe\">\n",
       "  <thead>\n",
       "    <tr style=\"text-align: right;\">\n",
       "      <th></th>\n",
       "      <th>date</th>\n",
       "      <th>close</th>\n",
       "      <th>BBL_10_2.0</th>\n",
       "      <th>BBM_10_2.0</th>\n",
       "      <th>BBU_10_2.0</th>\n",
       "      <th>BBB_10_2.0</th>\n",
       "      <th>BBP_10_2.0</th>\n",
       "      <th>high_limit</th>\n",
       "      <th>low_limit</th>\n",
       "      <th>close_percentage</th>\n",
       "      <th>bandwidth</th>\n",
       "      <th>signal</th>\n",
       "      <th>total_reward</th>\n",
       "    </tr>\n",
       "  </thead>\n",
       "  <tbody>\n",
       "    <tr>\n",
       "      <th>36</th>\n",
       "      <td>2022-12-21 14:20:00</td>\n",
       "      <td>386.829987</td>\n",
       "      <td>386.782317</td>\n",
       "      <td>387.090497</td>\n",
       "      <td>387.398677</td>\n",
       "      <td>0.159229</td>\n",
       "      <td>0.077341</td>\n",
       "      <td>387.706857</td>\n",
       "      <td>386.474136</td>\n",
       "      <td>0.288671</td>\n",
       "      <td>0.001592</td>\n",
       "      <td>1</td>\n",
       "      <td>0.000000</td>\n",
       "    </tr>\n",
       "    <tr>\n",
       "      <th>49</th>\n",
       "      <td>2022-12-21 14:33:00</td>\n",
       "      <td>386.755005</td>\n",
       "      <td>386.298981</td>\n",
       "      <td>386.588504</td>\n",
       "      <td>386.878027</td>\n",
       "      <td>0.149784</td>\n",
       "      <td>0.787543</td>\n",
       "      <td>387.167550</td>\n",
       "      <td>386.009458</td>\n",
       "      <td>0.643772</td>\n",
       "      <td>0.001498</td>\n",
       "      <td>-1</td>\n",
       "      <td>-20.383629</td>\n",
       "    </tr>\n",
       "    <tr>\n",
       "      <th>52</th>\n",
       "      <td>2022-12-21 14:36:00</td>\n",
       "      <td>386.320007</td>\n",
       "      <td>386.210411</td>\n",
       "      <td>386.533002</td>\n",
       "      <td>386.855592</td>\n",
       "      <td>0.166915</td>\n",
       "      <td>0.169869</td>\n",
       "      <td>387.178182</td>\n",
       "      <td>385.887821</td>\n",
       "      <td>0.334934</td>\n",
       "      <td>0.001669</td>\n",
       "      <td>1</td>\n",
       "      <td>0.000000</td>\n",
       "    </tr>\n",
       "    <tr>\n",
       "      <th>62</th>\n",
       "      <td>2022-12-21 14:46:00</td>\n",
       "      <td>386.579987</td>\n",
       "      <td>386.254716</td>\n",
       "      <td>386.431497</td>\n",
       "      <td>386.608278</td>\n",
       "      <td>0.091494</td>\n",
       "      <td>0.919981</td>\n",
       "      <td>386.785059</td>\n",
       "      <td>386.077935</td>\n",
       "      <td>0.709991</td>\n",
       "      <td>0.000915</td>\n",
       "      <td>-1</td>\n",
       "      <td>66.296346</td>\n",
       "    </tr>\n",
       "    <tr>\n",
       "      <th>68</th>\n",
       "      <td>2022-12-21 14:52:00</td>\n",
       "      <td>385.870911</td>\n",
       "      <td>385.917860</td>\n",
       "      <td>386.299258</td>\n",
       "      <td>386.680657</td>\n",
       "      <td>0.197463</td>\n",
       "      <td>-0.061549</td>\n",
       "      <td>387.062056</td>\n",
       "      <td>385.536461</td>\n",
       "      <td>0.219226</td>\n",
       "      <td>0.001975</td>\n",
       "      <td>1</td>\n",
       "      <td>0.000000</td>\n",
       "    </tr>\n",
       "    <tr>\n",
       "      <th>...</th>\n",
       "      <td>...</td>\n",
       "      <td>...</td>\n",
       "      <td>...</td>\n",
       "      <td>...</td>\n",
       "      <td>...</td>\n",
       "      <td>...</td>\n",
       "      <td>...</td>\n",
       "      <td>...</td>\n",
       "      <td>...</td>\n",
       "      <td>...</td>\n",
       "      <td>...</td>\n",
       "      <td>...</td>\n",
       "      <td>...</td>\n",
       "    </tr>\n",
       "    <tr>\n",
       "      <th>68767</th>\n",
       "      <td>2023-09-08 12:40:00</td>\n",
       "      <td>446.154999</td>\n",
       "      <td>445.913371</td>\n",
       "      <td>446.045013</td>\n",
       "      <td>446.176656</td>\n",
       "      <td>0.059026</td>\n",
       "      <td>0.917743</td>\n",
       "      <td>446.308298</td>\n",
       "      <td>445.781729</td>\n",
       "      <td>0.708872</td>\n",
       "      <td>0.000590</td>\n",
       "      <td>-1</td>\n",
       "      <td>-6.601752</td>\n",
       "    </tr>\n",
       "    <tr>\n",
       "      <th>68776</th>\n",
       "      <td>2023-09-08 12:49:00</td>\n",
       "      <td>445.790009</td>\n",
       "      <td>445.707020</td>\n",
       "      <td>446.074841</td>\n",
       "      <td>446.442662</td>\n",
       "      <td>0.164915</td>\n",
       "      <td>0.112811</td>\n",
       "      <td>446.810484</td>\n",
       "      <td>445.339199</td>\n",
       "      <td>0.306405</td>\n",
       "      <td>0.001649</td>\n",
       "      <td>1</td>\n",
       "      <td>0.000000</td>\n",
       "    </tr>\n",
       "    <tr>\n",
       "      <th>68783</th>\n",
       "      <td>2023-09-08 12:56:00</td>\n",
       "      <td>445.959991</td>\n",
       "      <td>445.683128</td>\n",
       "      <td>445.835208</td>\n",
       "      <td>445.987289</td>\n",
       "      <td>0.068223</td>\n",
       "      <td>0.910254</td>\n",
       "      <td>446.139369</td>\n",
       "      <td>445.531047</td>\n",
       "      <td>0.705127</td>\n",
       "      <td>0.000682</td>\n",
       "      <td>-1</td>\n",
       "      <td>37.130713</td>\n",
       "    </tr>\n",
       "    <tr>\n",
       "      <th>68858</th>\n",
       "      <td>2023-09-08 14:11:00</td>\n",
       "      <td>445.209991</td>\n",
       "      <td>445.446786</td>\n",
       "      <td>446.014966</td>\n",
       "      <td>446.583145</td>\n",
       "      <td>0.254781</td>\n",
       "      <td>-0.208380</td>\n",
       "      <td>447.151325</td>\n",
       "      <td>444.878607</td>\n",
       "      <td>0.145810</td>\n",
       "      <td>0.002548</td>\n",
       "      <td>1</td>\n",
       "      <td>0.000000</td>\n",
       "    </tr>\n",
       "    <tr>\n",
       "      <th>68868</th>\n",
       "      <td>2023-09-08 14:21:00</td>\n",
       "      <td>445.390015</td>\n",
       "      <td>445.055977</td>\n",
       "      <td>445.227982</td>\n",
       "      <td>445.399986</td>\n",
       "      <td>0.077266</td>\n",
       "      <td>0.971015</td>\n",
       "      <td>445.571990</td>\n",
       "      <td>444.883973</td>\n",
       "      <td>0.735507</td>\n",
       "      <td>0.000773</td>\n",
       "      <td>-1</td>\n",
       "      <td>39.435569</td>\n",
       "    </tr>\n",
       "  </tbody>\n",
       "</table>\n",
       "<p>2680 rows × 13 columns</p>\n",
       "</div>"
      ],
      "text/plain": [
       "                     date       close  BBL_10_2.0  BBM_10_2.0  BBU_10_2.0  \\\n",
       "36    2022-12-21 14:20:00  386.829987  386.782317  387.090497  387.398677   \n",
       "49    2022-12-21 14:33:00  386.755005  386.298981  386.588504  386.878027   \n",
       "52    2022-12-21 14:36:00  386.320007  386.210411  386.533002  386.855592   \n",
       "62    2022-12-21 14:46:00  386.579987  386.254716  386.431497  386.608278   \n",
       "68    2022-12-21 14:52:00  385.870911  385.917860  386.299258  386.680657   \n",
       "...                   ...         ...         ...         ...         ...   \n",
       "68767 2023-09-08 12:40:00  446.154999  445.913371  446.045013  446.176656   \n",
       "68776 2023-09-08 12:49:00  445.790009  445.707020  446.074841  446.442662   \n",
       "68783 2023-09-08 12:56:00  445.959991  445.683128  445.835208  445.987289   \n",
       "68858 2023-09-08 14:11:00  445.209991  445.446786  446.014966  446.583145   \n",
       "68868 2023-09-08 14:21:00  445.390015  445.055977  445.227982  445.399986   \n",
       "\n",
       "       BBB_10_2.0  BBP_10_2.0  high_limit   low_limit  close_percentage  \\\n",
       "36       0.159229    0.077341  387.706857  386.474136          0.288671   \n",
       "49       0.149784    0.787543  387.167550  386.009458          0.643772   \n",
       "52       0.166915    0.169869  387.178182  385.887821          0.334934   \n",
       "62       0.091494    0.919981  386.785059  386.077935          0.709991   \n",
       "68       0.197463   -0.061549  387.062056  385.536461          0.219226   \n",
       "...           ...         ...         ...         ...               ...   \n",
       "68767    0.059026    0.917743  446.308298  445.781729          0.708872   \n",
       "68776    0.164915    0.112811  446.810484  445.339199          0.306405   \n",
       "68783    0.068223    0.910254  446.139369  445.531047          0.705127   \n",
       "68858    0.254781   -0.208380  447.151325  444.878607          0.145810   \n",
       "68868    0.077266    0.971015  445.571990  444.883973          0.735507   \n",
       "\n",
       "       bandwidth  signal  total_reward  \n",
       "36      0.001592       1      0.000000  \n",
       "49      0.001498      -1    -20.383629  \n",
       "52      0.001669       1      0.000000  \n",
       "62      0.000915      -1     66.296346  \n",
       "68      0.001975       1      0.000000  \n",
       "...          ...     ...           ...  \n",
       "68767   0.000590      -1     -6.601752  \n",
       "68776   0.001649       1      0.000000  \n",
       "68783   0.000682      -1     37.130713  \n",
       "68858   0.002548       1      0.000000  \n",
       "68868   0.000773      -1     39.435569  \n",
       "\n",
       "[2680 rows x 13 columns]"
      ]
     },
     "execution_count": 19,
     "metadata": {},
     "output_type": "execute_result"
    }
   ],
   "source": [
    "result2"
   ]
  },
  {
   "cell_type": "code",
   "execution_count": null,
   "metadata": {},
   "outputs": [],
   "source": []
  },
  {
   "cell_type": "code",
   "execution_count": null,
   "metadata": {},
   "outputs": [],
   "source": []
  }
 ],
 "metadata": {
  "colab": {
   "provenance": []
  },
  "kernelspec": {
   "display_name": "Python 3 (ipykernel)",
   "language": "python",
   "name": "python3"
  },
  "language_info": {
   "codemirror_mode": {
    "name": "ipython",
    "version": 3
   },
   "file_extension": ".py",
   "mimetype": "text/x-python",
   "name": "python",
   "nbconvert_exporter": "python",
   "pygments_lexer": "ipython3",
   "version": "3.9.17"
  }
 },
 "nbformat": 4,
 "nbformat_minor": 4
}
