{
 "cells": [
  {
   "cell_type": "markdown",
   "metadata": {
    "id": "IYmbAYBansva"
   },
   "source": [
    "Copy the files **spy.train.csv.gz** and **spy.test.csv.gz** located in https://github.com/crapher/medium/tree/main/08.GABBStrategy/data to your colab folder"
   ]
  },
  {
   "cell_type": "code",
   "execution_count": 1,
   "metadata": {
    "colab": {
     "base_uri": "https://localhost:8080/"
    },
    "id": "bU4G0gi-gdc5",
    "outputId": "fecc2523-1190-4407-f2aa-cc7ccf9d36c5"
   },
   "outputs": [],
   "source": [
    "# !pip install pandas_ta tqdm pygad"
   ]
  },
  {
   "cell_type": "code",
   "execution_count": 2,
   "metadata": {
    "id": "-LjpN-v8Btt7"
   },
   "outputs": [],
   "source": [
    "import numpy as np\n",
    "import pandas as pd\n",
    "import pandas_ta as ta\n",
    "import pygad\n",
    "\n",
    "from tqdm import tqdm\n"
   ]
  },
  {
   "cell_type": "code",
   "execution_count": 3,
   "metadata": {
    "id": "36mzjkH6B-7a"
   },
   "outputs": [],
   "source": [
    "# Constants\n",
    "CASH = 100\n",
    "SOLUTIONS = 30\n",
    "GENERATIONS = 30\n",
    "TRAIN_FILE = '../data/spy.train.csv.gz'\n",
    "TEST_FILE = '../data/spy.test.csv.gz'"
   ]
  },
  {
   "cell_type": "code",
   "execution_count": 4,
   "metadata": {
    "id": "Eck0aed5QLR4"
   },
   "outputs": [],
   "source": [
    "# Configuration\n",
    "np.set_printoptions(suppress=True)\n",
    "pd.options.mode.chained_assignment = None"
   ]
  },
  {
   "cell_type": "code",
   "execution_count": 5,
   "metadata": {
    "id": "Olt-N2rNCBa6"
   },
   "outputs": [],
   "source": [
    "# Loading data, and split in train and test datasets\n",
    "def get_data():\n",
    "\n",
    "    train = pd.read_csv(TRAIN_FILE, compression='gzip')\n",
    "    train.ta.bbands(close=train['close'], length=10, append=True)\n",
    "    train = train.dropna()\n",
    "    train['high_limit'] = train['BBU_10_2.0'] + (train['BBU_10_2.0'] - train['BBL_10_2.0']) / 2\n",
    "    train['low_limit'] = train['BBL_10_2.0'] - (train['BBU_10_2.0'] - train['BBL_10_2.0']) / 2\n",
    "    train['close_percentage'] = np.clip((train['close'] - train['low_limit']) / (train['high_limit'] - train['low_limit']), 0, 1)\n",
    "    train['bandwidth'] = np.clip(train['BBB_10_2.0'] / 100, 0, 1)\n",
    "\n",
    "    test = pd.read_csv(TEST_FILE, compression='gzip')\n",
    "    test.ta.bbands(close=test['close'], length=10, append=True)\n",
    "    test = test.dropna()\n",
    "    test['high_limit'] = test['BBU_10_2.0'] + (test['BBU_10_2.0'] - test['BBL_10_2.0']) / 2\n",
    "    test['low_limit'] = test['BBL_10_2.0'] - (test['BBU_10_2.0'] - test['BBL_10_2.0']) / 2\n",
    "    test['close_percentage'] = np.clip((test['close'] - test['low_limit']) / (test['high_limit'] - test['low_limit']), 0, 1)\n",
    "    test['bandwidth'] = np.clip(test['BBB_10_2.0'] / 100, 0, 1)\n",
    "\n",
    "    return train, test"
   ]
  },
  {
   "cell_type": "code",
   "execution_count": 6,
   "metadata": {
    "id": "ytemL7k3QRGf"
   },
   "outputs": [],
   "source": [
    "# Define fitness function to be used by the PyGAD instance\n",
    "def fitness_func(self, solution, sol_idx):\n",
    "\n",
    "    # Get Reward from train data\n",
    "    total_reward, _, _ , _= get_result(train, solution[0], solution[1], solution[2])\n",
    "    # print(total_reward)\n",
    "    # Return the solution reward\n",
    "    return total_reward"
   ]
  },
  {
   "cell_type": "code",
   "execution_count": 7,
   "metadata": {
    "id": "SJop-YM2QSry"
   },
   "outputs": [],
   "source": [
    "# Define a reward function\n",
    "def get_result(df, min_bandwidth, max_buy_perc, min_sell_perc):\n",
    "\n",
    "    # Generate a copy to avoid changing the original data\n",
    "    df = df.copy().reset_index(drop=True)\n",
    "\n",
    "    # Buy Signal\n",
    "    df['signal'] = np.where((df['bandwidth'] > min_bandwidth) & (df['close_percentage'] < max_buy_perc), 1, 0)\n",
    "\n",
    "    # Sell Signal\n",
    "    df['signal'] = np.where((df['close_percentage'] > min_sell_perc), -1, df['signal'])\n",
    "\n",
    "    # Remove all rows without operations, rows with the same consecutive operation, first row selling, and last row buying\n",
    "    result = df[df['signal'] != 0]\n",
    "    result = result[result['signal'] != result['signal'].shift()]\n",
    "    if (len(result) > 0) and (result.iat[0, -1] == -1): result = result.iloc[1:]\n",
    "    if (len(result) > 0) and (result.iat[-1, -1] == 1): result = result.iloc[:-1]\n",
    "\n",
    "    # Calculate the reward / operation\n",
    "    result['total_reward'] = np.where(result['signal'] == -1, ((result['close'] - result['close'].shift()) * (CASH / result['close'].shift()))- CASH*0.0002, 0)\n",
    "\n",
    "    # Generate the result\n",
    "    total_reward = result['total_reward'].sum()\n",
    "    wins = len(result[result['total_reward'] > 0])\n",
    "    losses = len(result[result['total_reward'] < 0])\n",
    "\n",
    "    return total_reward, wins, losses, result"
   ]
  },
  {
   "cell_type": "markdown",
   "metadata": {},
   "source": [
    "* his data"
   ]
  },
  {
   "cell_type": "code",
   "execution_count": 21,
   "metadata": {
    "colab": {
     "base_uri": "https://localhost:8080/"
    },
    "id": "3wnO_sueQVOA",
    "outputId": "fdcf3fd2-f0f2-4be3-f3bb-8635a90ed573"
   },
   "outputs": [],
   "source": [
    "# Get Train and Test data\n",
    "# train, test = get_data()"
   ]
  },
  {
   "cell_type": "markdown",
   "metadata": {},
   "source": [
    "* Real Data"
   ]
  },
  {
   "cell_type": "code",
   "execution_count": 20,
   "metadata": {},
   "outputs": [
    {
     "data": {
      "text/html": [
       "<div>\n",
       "<style scoped>\n",
       "    .dataframe tbody tr th:only-of-type {\n",
       "        vertical-align: middle;\n",
       "    }\n",
       "\n",
       "    .dataframe tbody tr th {\n",
       "        vertical-align: top;\n",
       "    }\n",
       "\n",
       "    .dataframe thead th {\n",
       "        text-align: right;\n",
       "    }\n",
       "</style>\n",
       "<table border=\"1\" class=\"dataframe\">\n",
       "  <thead>\n",
       "    <tr style=\"text-align: right;\">\n",
       "      <th></th>\n",
       "      <th>date</th>\n",
       "      <th>close</th>\n",
       "    </tr>\n",
       "  </thead>\n",
       "  <tbody>\n",
       "    <tr>\n",
       "      <th>0</th>\n",
       "      <td>2022-06-01 09:30:00</td>\n",
       "      <td>415.589996</td>\n",
       "    </tr>\n",
       "    <tr>\n",
       "      <th>1</th>\n",
       "      <td>2022-06-01 09:31:00</td>\n",
       "      <td>415.869995</td>\n",
       "    </tr>\n",
       "    <tr>\n",
       "      <th>2</th>\n",
       "      <td>2022-06-01 09:32:00</td>\n",
       "      <td>415.704803</td>\n",
       "    </tr>\n",
       "    <tr>\n",
       "      <th>3</th>\n",
       "      <td>2022-06-01 09:33:00</td>\n",
       "      <td>415.390015</td>\n",
       "    </tr>\n",
       "    <tr>\n",
       "      <th>4</th>\n",
       "      <td>2022-06-01 09:34:00</td>\n",
       "      <td>415.570007</td>\n",
       "    </tr>\n",
       "    <tr>\n",
       "      <th>...</th>\n",
       "      <td>...</td>\n",
       "      <td>...</td>\n",
       "    </tr>\n",
       "    <tr>\n",
       "      <th>229914</th>\n",
       "      <td>2021-10-05 15:55:00</td>\n",
       "      <td>433.260010</td>\n",
       "    </tr>\n",
       "    <tr>\n",
       "      <th>229915</th>\n",
       "      <td>2021-10-05 15:56:00</td>\n",
       "      <td>433.329987</td>\n",
       "    </tr>\n",
       "    <tr>\n",
       "      <th>229916</th>\n",
       "      <td>2021-10-05 15:57:00</td>\n",
       "      <td>433.579987</td>\n",
       "    </tr>\n",
       "    <tr>\n",
       "      <th>229917</th>\n",
       "      <td>2021-10-05 15:58:00</td>\n",
       "      <td>433.260010</td>\n",
       "    </tr>\n",
       "    <tr>\n",
       "      <th>229918</th>\n",
       "      <td>2021-10-05 15:59:00</td>\n",
       "      <td>433.070007</td>\n",
       "    </tr>\n",
       "  </tbody>\n",
       "</table>\n",
       "<p>229919 rows × 2 columns</p>\n",
       "</div>"
      ],
      "text/plain": [
       "                       date       close\n",
       "0       2022-06-01 09:30:00  415.589996\n",
       "1       2022-06-01 09:31:00  415.869995\n",
       "2       2022-06-01 09:32:00  415.704803\n",
       "3       2022-06-01 09:33:00  415.390015\n",
       "4       2022-06-01 09:34:00  415.570007\n",
       "...                     ...         ...\n",
       "229914  2021-10-05 15:55:00  433.260010\n",
       "229915  2021-10-05 15:56:00  433.329987\n",
       "229916  2021-10-05 15:57:00  433.579987\n",
       "229917  2021-10-05 15:58:00  433.260010\n",
       "229918  2021-10-05 15:59:00  433.070007\n",
       "\n",
       "[229919 rows x 2 columns]"
      ]
     },
     "execution_count": 20,
     "metadata": {},
     "output_type": "execute_result"
    }
   ],
   "source": [
    "data = pd.read_csv('/Users/kiril/Documents/GitHub/NTC/Collected Data/test/corrected/almost_all_data.csv')\n",
    "data = data[['index','Adj_SPY']]\n",
    "data.rename(columns={'Adj_SPY':'close', 'index':'date'}, inplace=True)\n",
    "data"
   ]
  },
  {
   "cell_type": "code",
   "execution_count": 18,
   "metadata": {},
   "outputs": [
    {
     "data": {
      "text/html": [
       "<div>\n",
       "<style scoped>\n",
       "    .dataframe tbody tr th:only-of-type {\n",
       "        vertical-align: middle;\n",
       "    }\n",
       "\n",
       "    .dataframe tbody tr th {\n",
       "        vertical-align: top;\n",
       "    }\n",
       "\n",
       "    .dataframe thead th {\n",
       "        text-align: right;\n",
       "    }\n",
       "</style>\n",
       "<table border=\"1\" class=\"dataframe\">\n",
       "  <thead>\n",
       "    <tr style=\"text-align: right;\">\n",
       "      <th></th>\n",
       "      <th>date</th>\n",
       "      <th>close</th>\n",
       "    </tr>\n",
       "  </thead>\n",
       "  <tbody>\n",
       "    <tr>\n",
       "      <th>0</th>\n",
       "      <td>2008-01-22 09:35:00</td>\n",
       "      <td>127.65</td>\n",
       "    </tr>\n",
       "    <tr>\n",
       "      <th>1</th>\n",
       "      <td>2008-01-22 09:40:00</td>\n",
       "      <td>128.10</td>\n",
       "    </tr>\n",
       "    <tr>\n",
       "      <th>2</th>\n",
       "      <td>2008-01-22 09:45:00</td>\n",
       "      <td>129.03</td>\n",
       "    </tr>\n",
       "    <tr>\n",
       "      <th>3</th>\n",
       "      <td>2008-01-22 09:50:00</td>\n",
       "      <td>129.25</td>\n",
       "    </tr>\n",
       "    <tr>\n",
       "      <th>4</th>\n",
       "      <td>2008-01-22 09:55:00</td>\n",
       "      <td>128.53</td>\n",
       "    </tr>\n",
       "    <tr>\n",
       "      <th>...</th>\n",
       "      <td>...</td>\n",
       "      <td>...</td>\n",
       "    </tr>\n",
       "    <tr>\n",
       "      <th>286553</th>\n",
       "      <td>2021-05-06 15:35:00</td>\n",
       "      <td>417.68</td>\n",
       "    </tr>\n",
       "    <tr>\n",
       "      <th>286554</th>\n",
       "      <td>2021-05-06 15:40:00</td>\n",
       "      <td>417.79</td>\n",
       "    </tr>\n",
       "    <tr>\n",
       "      <th>286555</th>\n",
       "      <td>2021-05-06 15:45:00</td>\n",
       "      <td>418.05</td>\n",
       "    </tr>\n",
       "    <tr>\n",
       "      <th>286556</th>\n",
       "      <td>2021-05-06 15:50:00</td>\n",
       "      <td>418.56</td>\n",
       "    </tr>\n",
       "    <tr>\n",
       "      <th>286557</th>\n",
       "      <td>2021-05-06 15:55:00</td>\n",
       "      <td>419.08</td>\n",
       "    </tr>\n",
       "  </tbody>\n",
       "</table>\n",
       "<p>286558 rows × 2 columns</p>\n",
       "</div>"
      ],
      "text/plain": [
       "                       date   close\n",
       "0       2008-01-22 09:35:00  127.65\n",
       "1       2008-01-22 09:40:00  128.10\n",
       "2       2008-01-22 09:45:00  129.03\n",
       "3       2008-01-22 09:50:00  129.25\n",
       "4       2008-01-22 09:55:00  128.53\n",
       "...                     ...     ...\n",
       "286553  2021-05-06 15:35:00  417.68\n",
       "286554  2021-05-06 15:40:00  417.79\n",
       "286555  2021-05-06 15:45:00  418.05\n",
       "286556  2021-05-06 15:50:00  418.56\n",
       "286557  2021-05-06 15:55:00  419.08\n",
       "\n",
       "[286558 rows x 2 columns]"
      ]
     },
     "execution_count": 18,
     "metadata": {},
     "output_type": "execute_result"
    }
   ],
   "source": [
    "train"
   ]
  },
  {
   "cell_type": "code",
   "execution_count": null,
   "metadata": {},
   "outputs": [],
   "source": []
  },
  {
   "cell_type": "code",
   "execution_count": 9,
   "metadata": {
    "colab": {
     "base_uri": "https://localhost:8080/"
    },
    "id": "3wnO_sueQVOA",
    "outputId": "fdcf3fd2-f0f2-4be3-f3bb-8635a90ed573"
   },
   "outputs": [
    {
     "name": "stdout",
     "output_type": "stream",
     "text": [
      "************************************************************\n",
      "********************* PROCESSING DATA **********************\n",
      "************************************************************\n"
     ]
    },
    {
     "name": "stderr",
     "output_type": "stream",
     "text": [
      "100%|██████████| 30/30 [00:12<00:00,  2.38it/s]\n"
     ]
    }
   ],
   "source": [
    "# Process data\n",
    "print(\"\".center(60, \"*\"))\n",
    "print(f' PROCESSING DATA '.center(60, '*'))\n",
    "print(\"\".center(60, \"*\"))\n",
    "\n",
    "with tqdm(total=GENERATIONS) as pbar:\n",
    "\n",
    "    # Create Genetic Algorithm\n",
    "    ga_instance = pygad.GA(num_generations=GENERATIONS,\n",
    "                           num_parents_mating=5,\n",
    "                           fitness_func=fitness_func,\n",
    "                           sol_per_pop=SOLUTIONS,\n",
    "                           num_genes=3,\n",
    "                           gene_space=[\n",
    "                            {'low': 0, 'high': 1},\n",
    "                            {'low': 0, 'high': 1, 'step': 0.01},\n",
    "                            {'low': 0, 'high': 1, 'step': 0.01}],\n",
    "                           parent_selection_type=\"sss\",\n",
    "                           crossover_type=\"single_point\",\n",
    "                           mutation_type=\"random\",\n",
    "                           mutation_num_genes=1,\n",
    "                           keep_parents=-1,\n",
    "                           random_seed=42,\n",
    "                           on_generation=lambda _: pbar.update(1),\n",
    "                           )\n",
    "\n",
    "    # Run the Genetic Algorithm\n",
    "    ga_instance.run()"
   ]
  },
  {
   "cell_type": "code",
   "execution_count": 10,
   "metadata": {},
   "outputs": [
    {
     "name": "stderr",
     "output_type": "stream",
     "text": [
      "No artists with labels found to put in legend.  Note that artists whose label start with an underscore are ignored when legend() is called with no argument.\n"
     ]
    },
    {
     "data": {
      "image/png": "[encoded data removed]",
      "text/plain": [
       "<Figure size 640x480 with 1 Axes>"
      ]
     },
     "metadata": {},
     "output_type": "display_data"
    },
    {
     "data": {
      "image/png": "[encoded data removed]",
      "text/plain": [
       "<Figure size 640x480 with 1 Axes>"
      ]
     },
     "execution_count": 10,
     "metadata": {},
     "output_type": "execute_result"
    }
   ],
   "source": [
    "ga_instance.plot_fitness()\n"
   ]
  },
  {
   "cell_type": "code",
   "execution_count": 11,
   "metadata": {
    "colab": {
     "base_uri": "https://localhost:8080/"
    },
    "id": "3wnO_sueQVOA",
    "outputId": "fdcf3fd2-f0f2-4be3-f3bb-8635a90ed573",
    "tags": []
   },
   "outputs": [
    {
     "name": "stdout",
     "output_type": "stream",
     "text": [
      "***************** Best Solution Parameters *****************\n",
      "Min Bandwidth    : 0.0010\n",
      "Max Perc to Buy  :   0.94\n",
      "Min Perc to Sell :   0.87\n",
      "********************** Result (TRAIN) **********************\n",
      "* Profit / Loss  : 114.81\n",
      "* Wins / Losses  : 73 / 23\n",
      "* Win Rate       : 76.04%\n",
      "********************** Result (TEST) ***********************\n",
      "* Profit / Loss  : -2.37\n",
      "* Wins / Losses  : 3 / 3\n",
      "* Win Rate       : 50.00%\n"
     ]
    }
   ],
   "source": [
    "# Show details of the best solution.\n",
    "solution, solution_fitness, _ = ga_instance.best_solution()\n",
    "\n",
    "print(f' Best Solution Parameters '.center(60, '*'))\n",
    "print(f\"Min Bandwidth    : {solution[0]:6.4f}\")\n",
    "print(f\"Max Perc to Buy  : {solution[1]:6.2f}\")\n",
    "print(f\"Min Perc to Sell : {solution[2]:6.2f}\")\n",
    "\n",
    "# Get Reward from train data\n",
    "profit, wins, losses, result = get_result(train, solution[0], solution[1], solution[2])\n",
    "\n",
    "print(f' Result (TRAIN) '.center(60, '*'))\n",
    "print(f\"* Profit / Loss  : {profit:.2f}\")\n",
    "print(f\"* Wins / Losses  : {wins} / {losses}\")\n",
    "print(f\"* Win Rate       : {(100 * (wins/(wins + losses)) if wins + losses > 0 else 0):.2f}%\")\n",
    "\n",
    "# Get Reward from test data\n",
    "profit, wins, losses, result2 = get_result(test, solution[0], solution[1], solution[2])\n",
    "\n",
    "# Show the final result\n",
    "print(f' Result (TEST) '.center(60, '*'))\n",
    "print(f\"* Profit / Loss  : {profit:.2f}\")\n",
    "print(f\"* Wins / Losses  : {wins} / {losses}\")\n",
    "print(f\"* Win Rate       : {(100 * (wins/(wins + losses)) if wins + losses > 0 else 0):.2f}%\")"
   ]
  },
  {
   "cell_type": "code",
   "execution_count": 12,
   "metadata": {},
   "outputs": [
    {
     "data": {
      "text/html": [
       "<div>\n",
       "<style scoped>\n",
       "    .dataframe tbody tr th:only-of-type {\n",
       "        vertical-align: middle;\n",
       "    }\n",
       "\n",
       "    .dataframe tbody tr th {\n",
       "        vertical-align: top;\n",
       "    }\n",
       "\n",
       "    .dataframe thead th {\n",
       "        text-align: right;\n",
       "    }\n",
       "</style>\n",
       "<table border=\"1\" class=\"dataframe\">\n",
       "  <thead>\n",
       "    <tr style=\"text-align: right;\">\n",
       "      <th></th>\n",
       "      <th>date</th>\n",
       "      <th>close</th>\n",
       "      <th>BBL_10_2.0</th>\n",
       "      <th>BBM_10_2.0</th>\n",
       "      <th>BBU_10_2.0</th>\n",
       "      <th>BBB_10_2.0</th>\n",
       "      <th>BBP_10_2.0</th>\n",
       "      <th>high_limit</th>\n",
       "      <th>low_limit</th>\n",
       "      <th>close_percentage</th>\n",
       "      <th>bandwidth</th>\n",
       "      <th>signal</th>\n",
       "      <th>total_reward</th>\n",
       "    </tr>\n",
       "  </thead>\n",
       "  <tbody>\n",
       "    <tr>\n",
       "      <th>0</th>\n",
       "      <td>2021-06-14 10:20:00</td>\n",
       "      <td>423.555</td>\n",
       "      <td>423.358970</td>\n",
       "      <td>423.75500</td>\n",
       "      <td>424.151030</td>\n",
       "      <td>0.186915</td>\n",
       "      <td>0.247494</td>\n",
       "      <td>424.547061</td>\n",
       "      <td>422.962939</td>\n",
       "      <td>0.373747</td>\n",
       "      <td>0.001869</td>\n",
       "      <td>1</td>\n",
       "      <td>0.000000</td>\n",
       "    </tr>\n",
       "    <tr>\n",
       "      <th>2174</th>\n",
       "      <td>2021-07-23 09:30:00</td>\n",
       "      <td>437.480</td>\n",
       "      <td>434.361656</td>\n",
       "      <td>435.61745</td>\n",
       "      <td>436.873244</td>\n",
       "      <td>0.576558</td>\n",
       "      <td>1.241583</td>\n",
       "      <td>438.129038</td>\n",
       "      <td>433.105862</td>\n",
       "      <td>0.870791</td>\n",
       "      <td>0.005766</td>\n",
       "      <td>-1</td>\n",
       "      <td>3.267649</td>\n",
       "    </tr>\n",
       "    <tr>\n",
       "      <th>2175</th>\n",
       "      <td>2021-07-23 09:35:00</td>\n",
       "      <td>437.150</td>\n",
       "      <td>434.225094</td>\n",
       "      <td>435.77795</td>\n",
       "      <td>437.330806</td>\n",
       "      <td>0.712682</td>\n",
       "      <td>0.941783</td>\n",
       "      <td>438.883662</td>\n",
       "      <td>432.672238</td>\n",
       "      <td>0.720891</td>\n",
       "      <td>0.007127</td>\n",
       "      <td>1</td>\n",
       "      <td>0.000000</td>\n",
       "    </tr>\n",
       "    <tr>\n",
       "      <th>9551</th>\n",
       "      <td>2021-12-07 09:30:00</td>\n",
       "      <td>464.880</td>\n",
       "      <td>456.174986</td>\n",
       "      <td>459.67650</td>\n",
       "      <td>463.178014</td>\n",
       "      <td>1.523469</td>\n",
       "      <td>1.243036</td>\n",
       "      <td>466.679528</td>\n",
       "      <td>452.673472</td>\n",
       "      <td>0.871518</td>\n",
       "      <td>0.015235</td>\n",
       "      <td>-1</td>\n",
       "      <td>6.323360</td>\n",
       "    </tr>\n",
       "    <tr>\n",
       "      <th>9552</th>\n",
       "      <td>2021-12-07 09:35:00</td>\n",
       "      <td>465.080</td>\n",
       "      <td>455.459320</td>\n",
       "      <td>460.22650</td>\n",
       "      <td>464.993680</td>\n",
       "      <td>2.071667</td>\n",
       "      <td>1.009054</td>\n",
       "      <td>469.760859</td>\n",
       "      <td>450.692141</td>\n",
       "      <td>0.754527</td>\n",
       "      <td>0.020717</td>\n",
       "      <td>1</td>\n",
       "      <td>0.000000</td>\n",
       "    </tr>\n",
       "    <tr>\n",
       "      <th>14855</th>\n",
       "      <td>2022-03-16 09:30:00</td>\n",
       "      <td>430.610</td>\n",
       "      <td>423.577634</td>\n",
       "      <td>426.40220</td>\n",
       "      <td>429.226766</td>\n",
       "      <td>1.324837</td>\n",
       "      <td>1.244858</td>\n",
       "      <td>432.051332</td>\n",
       "      <td>420.753068</td>\n",
       "      <td>0.872429</td>\n",
       "      <td>0.013248</td>\n",
       "      <td>-1</td>\n",
       "      <td>-7.431628</td>\n",
       "    </tr>\n",
       "    <tr>\n",
       "      <th>14856</th>\n",
       "      <td>2022-03-16 09:35:00</td>\n",
       "      <td>431.820</td>\n",
       "      <td>422.789336</td>\n",
       "      <td>427.02320</td>\n",
       "      <td>431.257064</td>\n",
       "      <td>1.982967</td>\n",
       "      <td>1.066480</td>\n",
       "      <td>435.490927</td>\n",
       "      <td>418.555473</td>\n",
       "      <td>0.783240</td>\n",
       "      <td>0.019830</td>\n",
       "      <td>1</td>\n",
       "      <td>0.000000</td>\n",
       "    </tr>\n",
       "    <tr>\n",
       "      <th>22733</th>\n",
       "      <td>2022-08-10 09:30:00</td>\n",
       "      <td>417.820</td>\n",
       "      <td>408.032301</td>\n",
       "      <td>411.95651</td>\n",
       "      <td>415.880719</td>\n",
       "      <td>1.905157</td>\n",
       "      <td>1.247092</td>\n",
       "      <td>419.804928</td>\n",
       "      <td>404.108092</td>\n",
       "      <td>0.873546</td>\n",
       "      <td>0.019052</td>\n",
       "      <td>-1</td>\n",
       "      <td>-3.262092</td>\n",
       "    </tr>\n",
       "    <tr>\n",
       "      <th>22734</th>\n",
       "      <td>2022-08-10 09:35:00</td>\n",
       "      <td>417.300</td>\n",
       "      <td>407.552032</td>\n",
       "      <td>412.56451</td>\n",
       "      <td>417.576988</td>\n",
       "      <td>2.429912</td>\n",
       "      <td>0.972370</td>\n",
       "      <td>422.589466</td>\n",
       "      <td>402.539554</td>\n",
       "      <td>0.736185</td>\n",
       "      <td>0.024299</td>\n",
       "      <td>1</td>\n",
       "      <td>0.000000</td>\n",
       "    </tr>\n",
       "    <tr>\n",
       "      <th>26477</th>\n",
       "      <td>2022-10-18 09:30:00</td>\n",
       "      <td>374.305</td>\n",
       "      <td>363.405322</td>\n",
       "      <td>367.78096</td>\n",
       "      <td>372.156598</td>\n",
       "      <td>2.379481</td>\n",
       "      <td>1.245496</td>\n",
       "      <td>376.532237</td>\n",
       "      <td>359.029683</td>\n",
       "      <td>0.872748</td>\n",
       "      <td>0.023795</td>\n",
       "      <td>-1</td>\n",
       "      <td>-10.323139</td>\n",
       "    </tr>\n",
       "    <tr>\n",
       "      <th>26478</th>\n",
       "      <td>2022-10-18 09:35:00</td>\n",
       "      <td>374.440</td>\n",
       "      <td>362.732697</td>\n",
       "      <td>368.55949</td>\n",
       "      <td>374.386283</td>\n",
       "      <td>3.161928</td>\n",
       "      <td>1.004609</td>\n",
       "      <td>380.213076</td>\n",
       "      <td>356.905904</td>\n",
       "      <td>0.752305</td>\n",
       "      <td>0.031619</td>\n",
       "      <td>1</td>\n",
       "      <td>0.000000</td>\n",
       "    </tr>\n",
       "    <tr>\n",
       "      <th>29486</th>\n",
       "      <td>2022-12-13 09:30:00</td>\n",
       "      <td>408.420</td>\n",
       "      <td>393.100603</td>\n",
       "      <td>399.25346</td>\n",
       "      <td>405.406317</td>\n",
       "      <td>3.082181</td>\n",
       "      <td>1.244901</td>\n",
       "      <td>411.559174</td>\n",
       "      <td>386.947746</td>\n",
       "      <td>0.872451</td>\n",
       "      <td>0.030822</td>\n",
       "      <td>-1</td>\n",
       "      <td>9.054885</td>\n",
       "    </tr>\n",
       "  </tbody>\n",
       "</table>\n",
       "</div>"
      ],
      "text/plain": [
       "                      date    close  BBL_10_2.0  BBM_10_2.0  BBU_10_2.0  \\\n",
       "0      2021-06-14 10:20:00  423.555  423.358970   423.75500  424.151030   \n",
       "2174   2021-07-23 09:30:00  437.480  434.361656   435.61745  436.873244   \n",
       "2175   2021-07-23 09:35:00  437.150  434.225094   435.77795  437.330806   \n",
       "9551   2021-12-07 09:30:00  464.880  456.174986   459.67650  463.178014   \n",
       "9552   2021-12-07 09:35:00  465.080  455.459320   460.22650  464.993680   \n",
       "14855  2022-03-16 09:30:00  430.610  423.577634   426.40220  429.226766   \n",
       "14856  2022-03-16 09:35:00  431.820  422.789336   427.02320  431.257064   \n",
       "22733  2022-08-10 09:30:00  417.820  408.032301   411.95651  415.880719   \n",
       "22734  2022-08-10 09:35:00  417.300  407.552032   412.56451  417.576988   \n",
       "26477  2022-10-18 09:30:00  374.305  363.405322   367.78096  372.156598   \n",
       "26478  2022-10-18 09:35:00  374.440  362.732697   368.55949  374.386283   \n",
       "29486  2022-12-13 09:30:00  408.420  393.100603   399.25346  405.406317   \n",
       "\n",
       "       BBB_10_2.0  BBP_10_2.0  high_limit   low_limit  close_percentage  \\\n",
       "0        0.186915    0.247494  424.547061  422.962939          0.373747   \n",
       "2174     0.576558    1.241583  438.129038  433.105862          0.870791   \n",
       "2175     0.712682    0.941783  438.883662  432.672238          0.720891   \n",
       "9551     1.523469    1.243036  466.679528  452.673472          0.871518   \n",
       "9552     2.071667    1.009054  469.760859  450.692141          0.754527   \n",
       "14855    1.324837    1.244858  432.051332  420.753068          0.872429   \n",
       "14856    1.982967    1.066480  435.490927  418.555473          0.783240   \n",
       "22733    1.905157    1.247092  419.804928  404.108092          0.873546   \n",
       "22734    2.429912    0.972370  422.589466  402.539554          0.736185   \n",
       "26477    2.379481    1.245496  376.532237  359.029683          0.872748   \n",
       "26478    3.161928    1.004609  380.213076  356.905904          0.752305   \n",
       "29486    3.082181    1.244901  411.559174  386.947746          0.872451   \n",
       "\n",
       "       bandwidth  signal  total_reward  \n",
       "0       0.001869       1      0.000000  \n",
       "2174    0.005766      -1      3.267649  \n",
       "2175    0.007127       1      0.000000  \n",
       "9551    0.015235      -1      6.323360  \n",
       "9552    0.020717       1      0.000000  \n",
       "14855   0.013248      -1     -7.431628  \n",
       "14856   0.019830       1      0.000000  \n",
       "22733   0.019052      -1     -3.262092  \n",
       "22734   0.024299       1      0.000000  \n",
       "26477   0.023795      -1    -10.323139  \n",
       "26478   0.031619       1      0.000000  \n",
       "29486   0.030822      -1      9.054885  "
      ]
     },
     "execution_count": 12,
     "metadata": {},
     "output_type": "execute_result"
    }
   ],
   "source": [
    "result2"
   ]
  },
  {
   "cell_type": "code",
   "execution_count": null,
   "metadata": {},
   "outputs": [],
   "source": []
  }
 ],
 "metadata": {
  "colab": {
   "provenance": []
  },
  "kernelspec": {
   "display_name": "Python 3 (ipykernel)",
   "language": "python",
   "name": "python3"
  },
  "language_info": {
   "codemirror_mode": {
    "name": "ipython",
    "version": 3
   },
   "file_extension": ".py",
   "mimetype": "text/x-python",
   "name": "python",
   "nbconvert_exporter": "python",
   "pygments_lexer": "ipython3",
   "version": "3.9.17"
  }
 },
 "nbformat": 4,
 "nbformat_minor": 4
}
