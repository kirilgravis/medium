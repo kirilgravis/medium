{
 "cells": [
  {
   "cell_type": "markdown",
   "metadata": {
    "id": "IYmbAYBansva"
   },
   "source": [
    "Copy the file **tsla.csv.gz** located in https://github.com/crapher/medium/tree/main/08.GABBStrategy/data to your colab folder"
   ]
  },
  {
   "cell_type": "code",
   "execution_count": 1,
   "metadata": {
    "colab": {
     "base_uri": "https://localhost:8080/"
    },
    "id": "bU4G0gi-gdc5",
    "outputId": "46b01b11-689a-4e99-8e3b-9e00a81a832d"
   },
   "outputs": [
    {
     "name": "stdout",
     "output_type": "stream",
     "text": [
      "Collecting pandas_ta\n",
      "  Downloading pandas_ta-0.3.14b.tar.gz (115 kB)\n",
      "\u001b[2K     \u001b[90m━━━━━━━━━━━━━━━━━━━━━━━━━━━━━━━━━━━━━━━\u001b[0m \u001b[32m115.1/115.1 kB\u001b[0m \u001b[31m3.7 MB/s\u001b[0m eta \u001b[36m0:00:00\u001b[0m\n",
      "\u001b[?25h  Preparing metadata (setup.py) ... \u001b[?25l\u001b[?25hdone\n",
      "Requirement already satisfied: tqdm in /usr/local/lib/python3.10/dist-packages (4.66.1)\n",
      "Collecting pygad\n",
      "  Downloading pygad-3.1.0-py3-none-any.whl (73 kB)\n",
      "\u001b[2K     \u001b[90m━━━━━━━━━━━━━━━━━━━━━━━━━━━━━━━━━━━━━━━━\u001b[0m \u001b[32m73.0/73.0 kB\u001b[0m \u001b[31m7.4 MB/s\u001b[0m eta \u001b[36m0:00:00\u001b[0m\n",
      "\u001b[?25hRequirement already satisfied: pandas in /usr/local/lib/python3.10/dist-packages (from pandas_ta) (1.5.3)\n",
      "Requirement already satisfied: cloudpickle in /usr/local/lib/python3.10/dist-packages (from pygad) (2.2.1)\n",
      "Requirement already satisfied: matplotlib in /usr/local/lib/python3.10/dist-packages (from pygad) (3.7.1)\n",
      "Requirement already satisfied: numpy in /usr/local/lib/python3.10/dist-packages (from pygad) (1.23.5)\n",
      "Requirement already satisfied: contourpy>=1.0.1 in /usr/local/lib/python3.10/dist-packages (from matplotlib->pygad) (1.1.0)\n",
      "Requirement already satisfied: cycler>=0.10 in /usr/local/lib/python3.10/dist-packages (from matplotlib->pygad) (0.11.0)\n",
      "Requirement already satisfied: fonttools>=4.22.0 in /usr/local/lib/python3.10/dist-packages (from matplotlib->pygad) (4.42.1)\n",
      "Requirement already satisfied: kiwisolver>=1.0.1 in /usr/local/lib/python3.10/dist-packages (from matplotlib->pygad) (1.4.4)\n",
      "Requirement already satisfied: packaging>=20.0 in /usr/local/lib/python3.10/dist-packages (from matplotlib->pygad) (23.1)\n",
      "Requirement already satisfied: pillow>=6.2.0 in /usr/local/lib/python3.10/dist-packages (from matplotlib->pygad) (9.4.0)\n",
      "Requirement already satisfied: pyparsing>=2.3.1 in /usr/local/lib/python3.10/dist-packages (from matplotlib->pygad) (3.1.1)\n",
      "Requirement already satisfied: python-dateutil>=2.7 in /usr/local/lib/python3.10/dist-packages (from matplotlib->pygad) (2.8.2)\n",
      "Requirement already satisfied: pytz>=2020.1 in /usr/local/lib/python3.10/dist-packages (from pandas->pandas_ta) (2023.3)\n",
      "Requirement already satisfied: six>=1.5 in /usr/local/lib/python3.10/dist-packages (from python-dateutil>=2.7->matplotlib->pygad) (1.16.0)\n",
      "Building wheels for collected packages: pandas_ta\n",
      "  Building wheel for pandas_ta (setup.py) ... \u001b[?25l\u001b[?25hdone\n",
      "  Created wheel for pandas_ta: filename=pandas_ta-0.3.14b0-py3-none-any.whl size=218908 sha256=aaf0665fea5741f6d13f64a84a479f6c182294f68cfbc844c55263543a9feb05\n",
      "  Stored in directory: /root/.cache/pip/wheels/69/00/ac/f7fa862c34b0e2ef320175100c233377b4c558944f12474cf0\n",
      "Successfully built pandas_ta\n",
      "Installing collected packages: pygad, pandas_ta\n",
      "Successfully installed pandas_ta-0.3.14b0 pygad-3.1.0\n"
     ]
    }
   ],
   "source": [
    "!pip install pandas_ta tqdm pygad"
   ]
  },
  {
   "cell_type": "code",
   "execution_count": 2,
   "metadata": {
    "id": "-LjpN-v8Btt7"
   },
   "outputs": [],
   "source": [
    "import numpy as np\n",
    "import pandas as pd\n",
    "import pandas_ta as ta\n",
    "import pygad\n",
    "\n",
    "from tqdm import tqdm\n"
   ]
  },
  {
   "cell_type": "code",
   "execution_count": 3,
   "metadata": {
    "id": "36mzjkH6B-7a"
   },
   "outputs": [],
   "source": [
    "# Constants\n",
    "CASH = 10_000\n",
    "SOLUTIONS = 30\n",
    "GENERATIONS = 30\n",
    "FILENAME = 'tsla.csv.gz'"
   ]
  },
  {
   "cell_type": "code",
   "execution_count": 4,
   "metadata": {
    "id": "Eck0aed5QLR4"
   },
   "outputs": [],
   "source": [
    "# Configuration\n",
    "np.set_printoptions(suppress=True)\n",
    "pd.options.mode.chained_assignment = None"
   ]
  },
  {
   "cell_type": "code",
   "execution_count": 5,
   "metadata": {
    "id": "Olt-N2rNCBa6"
   },
   "outputs": [],
   "source": [
    "# Loading data, and split in train and test datasets\n",
    "def get_data():\n",
    "\n",
    "    df = pd.read_csv(FILENAME, compression='gzip')\n",
    "    df = df[['date','close']]\n",
    "    df.ta.bbands(close=df['close'], length=10, append=True)\n",
    "    df = df.dropna()\n",
    "    df['high_limit'] = df['BBU_10_2.0'] + (df['BBU_10_2.0'] - df['BBL_10_2.0']) / 2\n",
    "    df['low_limit'] = df['BBL_10_2.0'] - (df['BBU_10_2.0'] - df['BBL_10_2.0']) / 2\n",
    "    df['close_percentage'] = np.clip((df['close'] - df['low_limit']) / (df['high_limit'] - df['low_limit']), 0, 1)\n",
    "    df['bandwidth'] = np.clip(df['BBB_10_2.0'] / 100, 0, 1)\n",
    "\n",
    "    train = df[df['date'] < '2023-01-01']\n",
    "    test = df[df['date'] >= '2023-01-01']\n",
    "\n",
    "    return train, test"
   ]
  },
  {
   "cell_type": "code",
   "execution_count": 6,
   "metadata": {
    "id": "ytemL7k3QRGf"
   },
   "outputs": [],
   "source": [
    "# Define fitness function to be used by the PyGAD instance\n",
    "def fitness_func(self, solution, sol_idx):\n",
    "\n",
    "    # Get Reward from train data\n",
    "    total_reward, _, _ = get_result(train, solution[0], solution[1], solution[2])\n",
    "\n",
    "    # Return the solution reward\n",
    "    return total_reward"
   ]
  },
  {
   "cell_type": "code",
   "execution_count": 7,
   "metadata": {
    "id": "SJop-YM2QSry"
   },
   "outputs": [],
   "source": [
    "# Define a reward function\n",
    "def get_result(df, min_bandwidth, max_buy_perc, min_sell_perc):\n",
    "\n",
    "    # Generate a copy to avoid changing the original data\n",
    "    df = df.copy().reset_index(drop=True)\n",
    "\n",
    "    # Buy Signal\n",
    "    df['signal'] = np.where((df['bandwidth'] > min_bandwidth) & (df['close_percentage'] < max_buy_perc), 1, 0)\n",
    "\n",
    "    # Sell Signal\n",
    "    df['signal'] = np.where((df['close_percentage'] > min_sell_perc), -1, df['signal'])\n",
    "\n",
    "    # Remove all rows without operations, rows with the same consecutive operation, first row selling, and last row buying\n",
    "    result = df[df['signal'] != 0]\n",
    "    result = result[result['signal'] != result['signal'].shift()]\n",
    "    if (len(result) > 0) and (result.iat[0, -1] == -1): result = result.iloc[1:]\n",
    "    if (len(result) > 0) and (result.iat[-1, -1] == 1): result = result.iloc[:-1]\n",
    "\n",
    "    # Calculate the reward / operation\n",
    "    result['total_reward'] = np.where(result['signal'] == -1, (result['close'] - result['close'].shift()) * (CASH // result['close'].shift()), 0)\n",
    "\n",
    "    # Generate the result\n",
    "    total_reward = result['total_reward'].sum()\n",
    "    wins = len(result[result['total_reward'] > 0])\n",
    "    losses = len(result[result['total_reward'] < 0])\n",
    "\n",
    "    return total_reward, wins, losses"
   ]
  },
  {
   "cell_type": "code",
   "execution_count": 8,
   "metadata": {
    "colab": {
     "base_uri": "https://localhost:8080/"
    },
    "id": "3wnO_sueQVOA",
    "outputId": "3bbcbef9-3d01-4ebe-804a-369a94f25638"
   },
   "outputs": [
    {
     "name": "stdout",
     "output_type": "stream",
     "text": [
      "************************************************************\n",
      "********************* PROCESSING DATA **********************\n",
      "************************************************************\n"
     ]
    },
    {
     "name": "stderr",
     "output_type": "stream",
     "text": [
      "100%|██████████| 30/30 [00:22<00:00,  1.31it/s]\n"
     ]
    },
    {
     "name": "stdout",
     "output_type": "stream",
     "text": [
      "***************** Best Solution Parameters *****************\n",
      "Min Bandwidth    : 0.0564\n",
      "Max Perc to Buy  :   0.44\n",
      "Min Perc to Sell :   0.85\n",
      "********************** Result (TRAIN) **********************\n",
      "* Profit / Loss  : 10580.04\n",
      "* Wins / Losses  : 21 / 8\n",
      "* Win Rate       : 72.41%\n",
      "********************** Result (TEST) ***********************\n",
      "* Profit / Loss  : 2489.01\n",
      "* Wins / Losses  : 6 / 2\n",
      "* Win Rate       : 75.00%\n"
     ]
    }
   ],
   "source": [
    "# Get Train and Test data\n",
    "train, test = get_data()\n",
    "\n",
    "# Process data\n",
    "print(\"\".center(60, \"*\"))\n",
    "print(f' PROCESSING DATA '.center(60, '*'))\n",
    "print(\"\".center(60, \"*\"))\n",
    "\n",
    "with tqdm(total=GENERATIONS) as pbar:\n",
    "\n",
    "    # Create Genetic Algorithm\n",
    "    ga_instance = pygad.GA(num_generations=GENERATIONS,\n",
    "                           num_parents_mating=5,\n",
    "                           fitness_func=fitness_func,\n",
    "                           sol_per_pop=SOLUTIONS,\n",
    "                           num_genes=3,\n",
    "                           gene_space=[\n",
    "                            {'low': 0, 'high': 1},\n",
    "                            {'low': 0, 'high': 1, 'step': 0.01},\n",
    "                            {'low': 0, 'high': 1, 'step': 0.01}],\n",
    "                           parent_selection_type=\"sss\",\n",
    "                           crossover_type=\"single_point\",\n",
    "                           mutation_type=\"random\",\n",
    "                           mutation_num_genes=1,\n",
    "                           keep_parents=-1,\n",
    "                           random_seed=42,\n",
    "                           on_generation=lambda _: pbar.update(1),\n",
    "                           )\n",
    "\n",
    "    # Run the Genetic Algorithm\n",
    "    ga_instance.run()\n",
    "\n",
    "# Show details of the best solution.\n",
    "solution, solution_fitness, _ = ga_instance.best_solution()\n",
    "\n",
    "print(f' Best Solution Parameters '.center(60, '*'))\n",
    "print(f\"Min Bandwidth    : {solution[0]:6.4f}\")\n",
    "print(f\"Max Perc to Buy  : {solution[1]:6.2f}\")\n",
    "print(f\"Min Perc to Sell : {solution[2]:6.2f}\")\n",
    "\n",
    "# Get Reward from train data\n",
    "profit, wins, losses = get_result(train, solution[0], solution[1], solution[2])\n",
    "\n",
    "print(f' Result (TRAIN) '.center(60, '*'))\n",
    "print(f\"* Profit / Loss  : {profit:.2f}\")\n",
    "print(f\"* Wins / Losses  : {wins} / {losses}\")\n",
    "print(f\"* Win Rate       : {(100 * (wins/(wins + losses)) if wins + losses > 0 else 0):.2f}%\")\n",
    "\n",
    "# Get Reward from test data\n",
    "profit, wins, losses = get_result(test, solution[0], solution[1], solution[2])\n",
    "\n",
    "# Show the final result\n",
    "print(f' Result (TEST) '.center(60, '*'))\n",
    "print(f\"* Profit / Loss  : {profit:.2f}\")\n",
    "print(f\"* Wins / Losses  : {wins} / {losses}\")\n",
    "print(f\"* Win Rate       : {(100 * (wins/(wins + losses)) if wins + losses > 0 else 0):.2f}%\")"
   ]
  }
 ],
 "metadata": {
  "colab": {
   "provenance": []
  },
  "kernelspec": {
   "display_name": "Python 3 (ipykernel)",
   "language": "python",
   "name": "python3"
  },
  "language_info": {
   "codemirror_mode": {
    "name": "ipython",
    "version": 3
   },
   "file_extension": ".py",
   "mimetype": "text/x-python",
   "name": "python",
   "nbconvert_exporter": "python",
   "pygments_lexer": "ipython3",
   "version": "3.9.17"
  }
 },
 "nbformat": 4,
 "nbformat_minor": 4
}
